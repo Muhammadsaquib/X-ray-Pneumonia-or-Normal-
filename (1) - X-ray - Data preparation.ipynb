{
 "cells": [
  {
   "cell_type": "code",
   "execution_count": 6,
   "metadata": {},
   "outputs": [],
   "source": [
    "import tensorflow as tf\n",
    "import numpy as np\n",
    "import pandas as pd\n",
    "import os \n",
    "import random\n",
    "import matplotlib.pyplot as plt\n",
    "import cv2\n",
    "import pickle"
   ]
  },
  {
   "cell_type": "code",
   "execution_count": 3,
   "metadata": {},
   "outputs": [
    {
     "ename": "NameError",
     "evalue": "name 'f_names' is not defined",
     "output_type": "error",
     "traceback": [
      "\u001b[1;31m---------------------------------------------------------------------------\u001b[0m",
      "\u001b[1;31mNameError\u001b[0m                                 Traceback (most recent call last)",
      "\u001b[1;32m<ipython-input-3-3c2426d1328f>\u001b[0m in \u001b[0;36m<module>\u001b[1;34m\u001b[0m\n\u001b[0;32m      4\u001b[0m \u001b[1;31m# img_size = 256\u001b[0m\u001b[1;33m\u001b[0m\u001b[1;33m\u001b[0m\u001b[1;33m\u001b[0m\u001b[0m\n\u001b[0;32m      5\u001b[0m \u001b[1;33m\u001b[0m\u001b[0m\n\u001b[1;32m----> 6\u001b[1;33m \u001b[1;32mfor\u001b[0m \u001b[0mname\u001b[0m \u001b[1;32min\u001b[0m \u001b[0mf_names\u001b[0m\u001b[1;33m:\u001b[0m\u001b[1;33m\u001b[0m\u001b[1;33m\u001b[0m\u001b[0m\n\u001b[0m\u001b[0;32m      7\u001b[0m     \u001b[0mf_path\u001b[0m \u001b[1;33m=\u001b[0m \u001b[0mos\u001b[0m\u001b[1;33m.\u001b[0m\u001b[0mpath\u001b[0m\u001b[1;33m.\u001b[0m\u001b[0mjoin\u001b[0m\u001b[1;33m(\u001b[0m\u001b[0mf_dir\u001b[0m\u001b[1;33m,\u001b[0m\u001b[0mname\u001b[0m\u001b[1;33m)\u001b[0m\u001b[1;33m\u001b[0m\u001b[1;33m\u001b[0m\u001b[0m\n\u001b[0;32m      8\u001b[0m     \u001b[1;32mfor\u001b[0m \u001b[0mimg\u001b[0m \u001b[1;32min\u001b[0m \u001b[0mos\u001b[0m\u001b[1;33m.\u001b[0m\u001b[0mlistdir\u001b[0m\u001b[1;33m(\u001b[0m\u001b[0mf_path\u001b[0m\u001b[1;33m)\u001b[0m\u001b[1;33m:\u001b[0m\u001b[1;33m\u001b[0m\u001b[1;33m\u001b[0m\u001b[0m\n",
      "\u001b[1;31mNameError\u001b[0m: name 'f_names' is not defined"
     ]
    }
   ],
   "source": [
    "f_dir = r\"C:\\Users\\tahas\\OneDrive\\Desktop\\Pro\\chest_xray\\train\"\n",
    "\n",
    "# f_names = ['NORMAL','PNEUMONIA']\n",
    "# img_size = 256\n",
    "\n",
    "for name in f_names:\n",
    "    f_path = os.path.join(f_dir,name)\n",
    "    for img in os.listdir(f_path):\n",
    "        img_array = cv2.imread(os.path.join(f_path,img),cv2.IMREAD_GRAYSCALE)\n",
    "        plt.imshow(img_array,cmap= 'gray')\n",
    "        plt.show()\n",
    "        break\n",
    "    break"
   ]
  },
  {
   "cell_type": "code",
   "execution_count": 8,
   "metadata": {},
   "outputs": [],
   "source": [
    "training_data =[]\n",
    "def dataset(d_dir= r\"C:\\Users\\tahas\\OneDrive\\Desktop\\Pro\\chest_xray\\train\",f_names =['NORMAL','PNEUMONIA'],img_size =256):\n",
    "    for name in f_names:\n",
    "        f_path = os.path.join(f_dir,name)\n",
    "        class_name_ind = f_names.index(name)\n",
    "        \n",
    "        try:\n",
    "            for img in os.listdir(f_path):\n",
    "                img_array = cv2.imread(os.path.join(f_path,img),cv2.IMREAD_GRAYSCALE)\n",
    "                img_u = cv2.resize(img_array,(img_size, img_size))\n",
    "                training_data.append([img_u,class_name_ind])\n",
    "                #plt.imshow(img_u,cmap= 'gray')\n",
    "                #plt.show()\n",
    "        except Exception as e:\n",
    "            pass\n",
    "dataset()"
   ]
  },
  {
   "cell_type": "code",
   "execution_count": 9,
   "metadata": {},
   "outputs": [
    {
     "data": {
      "text/plain": [
       "5216"
      ]
     },
     "execution_count": 9,
     "metadata": {},
     "output_type": "execute_result"
    }
   ],
   "source": [
    "len(training_data)"
   ]
  },
  {
   "cell_type": "code",
   "execution_count": 10,
   "metadata": {},
   "outputs": [
    {
     "data": {
      "text/plain": [
       "[array([[ 23,  18,  18, ...,  93,  96,  95],\n",
       "        [ 22,  21,  19, ...,  92,  94,  95],\n",
       "        [ 23,  22,  20, ...,  93,  94,  95],\n",
       "        ...,\n",
       "        [ 29,  29,  29, ...,  64,  66,  65],\n",
       "        [ 36,  35,  36, ...,  82,  87,  87],\n",
       "        [ 47,  48,  46, ..., 113, 116, 113]], dtype=uint8),\n",
       " 0]"
      ]
     },
     "execution_count": 10,
     "metadata": {},
     "output_type": "execute_result"
    }
   ],
   "source": [
    "training_data[0]"
   ]
  },
  {
   "cell_type": "code",
   "execution_count": 50,
   "metadata": {},
   "outputs": [],
   "source": [
    "random.shuffle(training_data)"
   ]
  },
  {
   "cell_type": "code",
   "execution_count": 52,
   "metadata": {},
   "outputs": [
    {
     "data": {
      "text/plain": [
       "[array([[19, 16, 18, ..., 21, 19, 19],\n",
       "        [19, 14, 18, ..., 21, 19, 17],\n",
       "        [18, 15, 18, ..., 22, 21, 18],\n",
       "        ...,\n",
       "        [15, 15, 15, ...,  9,  8,  7],\n",
       "        [15, 15, 15, ...,  8,  8,  8],\n",
       "        [15, 15, 15, ...,  8,  8,  8]], dtype=uint8),\n",
       " 1]"
      ]
     },
     "execution_count": 52,
     "metadata": {},
     "output_type": "execute_result"
    }
   ],
   "source": [
    "training_data[0]"
   ]
  },
  {
   "cell_type": "code",
   "execution_count": 53,
   "metadata": {},
   "outputs": [],
   "source": [
    "X =[]\n",
    "y =[]\n",
    "for feature,label in training_data:\n",
    "    X.append(feature)\n",
    "    y.append(label)\n",
    "    "
   ]
  },
  {
   "cell_type": "code",
   "execution_count": 54,
   "metadata": {},
   "outputs": [
    {
     "data": {
      "text/plain": [
       "5216"
      ]
     },
     "execution_count": 54,
     "metadata": {},
     "output_type": "execute_result"
    }
   ],
   "source": [
    "len(X)"
   ]
  },
  {
   "cell_type": "code",
   "execution_count": 55,
   "metadata": {},
   "outputs": [
    {
     "data": {
      "text/plain": [
       "5216"
      ]
     },
     "execution_count": 55,
     "metadata": {},
     "output_type": "execute_result"
    }
   ],
   "source": [
    "len(y)"
   ]
  },
  {
   "cell_type": "code",
   "execution_count": 56,
   "metadata": {
    "scrolled": true
   },
   "outputs": [
    {
     "data": {
      "text/plain": [
       "array([[19, 16, 18, ..., 21, 19, 19],\n",
       "       [19, 14, 18, ..., 21, 19, 17],\n",
       "       [18, 15, 18, ..., 22, 21, 18],\n",
       "       ...,\n",
       "       [15, 15, 15, ...,  9,  8,  7],\n",
       "       [15, 15, 15, ...,  8,  8,  8],\n",
       "       [15, 15, 15, ...,  8,  8,  8]], dtype=uint8)"
      ]
     },
     "execution_count": 56,
     "metadata": {},
     "output_type": "execute_result"
    }
   ],
   "source": [
    "X[0]"
   ]
  },
  {
   "cell_type": "code",
   "execution_count": 60,
   "metadata": {},
   "outputs": [],
   "source": [
    "img_size =256\n",
    "X = np.array(X).reshape(-1,img_size,img_size,1) \n",
    "y = np.array(y)"
   ]
  },
  {
   "cell_type": "code",
   "execution_count": 61,
   "metadata": {},
   "outputs": [],
   "source": [
    "pickle_out = open('X.pickle','wb')\n",
    "pickle.dump(X,pickle_out)\n",
    "pickle_out.close()\n",
    "\n",
    "pickle_out = open('y.pickle','wb')\n",
    "pickle.dump(y,pickle_out)\n",
    "pickle_out.close()\n"
   ]
  },
  {
   "cell_type": "code",
   "execution_count": null,
   "metadata": {},
   "outputs": [],
   "source": []
  }
 ],
 "metadata": {
  "kernelspec": {
   "display_name": "saqib-gpu",
   "language": "python",
   "name": "saqib-gpu"
  },
  "language_info": {
   "codemirror_mode": {
    "name": "ipython",
    "version": 3
   },
   "file_extension": ".py",
   "mimetype": "text/x-python",
   "name": "python",
   "nbconvert_exporter": "python",
   "pygments_lexer": "ipython3",
   "version": "3.7.6"
  }
 },
 "nbformat": 4,
 "nbformat_minor": 4
}
